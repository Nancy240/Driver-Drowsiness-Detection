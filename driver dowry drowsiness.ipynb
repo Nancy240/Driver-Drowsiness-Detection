{
 "cells": [
  {
   "cell_type": "code",
   "execution_count": 76,
   "id": "1899b44a-15b5-428c-b9f2-9a64971549c7",
   "metadata": {},
   "outputs": [],
   "source": [
    "#Importing OpenCV Library for basic image processing functions\n",
    "import cv2\n",
    "# Numpy for array related functions\n",
    "import numpy as np\n",
    "# Dlib for deep learning based Modules and face landmark detection\n",
    "import dlib\n",
    "#face_utils for basic operations of conversACion\n",
    "from imutils import face_utils\n",
    "# Pygame for multimedia applications like sound and graphics\n",
    "import pygame"
   ]
  },
  {
   "cell_type": "code",
   "execution_count": 77,
   "id": "6f940396-f4d6-4a14-acfa-ef729ebc8722",
   "metadata": {},
   "outputs": [],
   "source": [
    "#Initializing the camera and taking the instance\n",
    "cap = cv2.VideoCapture(0)"
   ]
  },
  {
   "cell_type": "code",
   "execution_count": 78,
   "id": "d0764fb4-b168-48e3-8e25-720c7caa5397",
   "metadata": {},
   "outputs": [
    {
     "name": "stdout",
     "output_type": "stream",
     "text": [
      "Face landmark predictor loaded successfully.\n"
     ]
    }
   ],
   "source": [
    "# Path to the pre-trained shape predictor model\n",
    "shape_predictor_path = \"shape_predictor_81_face_landmarks.dat\"\n",
    "\n",
    "# Initializing the face detector\n",
    "detector = dlib.get_frontal_face_detector()\n",
    "\n",
    "# Initializing the landmark predictor\n",
    "try:\n",
    "    predictor = dlib.shape_predictor(shape_predictor_path)\n",
    "    print(\"Face landmark predictor loaded successfully.\")\n",
    "except RuntimeError as e:\n",
    "    print(\"Error:\", e)\n"
   ]
  },
  {
   "cell_type": "code",
   "execution_count": 79,
   "id": "9cf46c5c-0099-4e25-9b81-1aa799e64619",
   "metadata": {},
   "outputs": [],
   "source": [
    "#status marking for current state\n",
    "sleep = 0\n",
    "drowsy = 0\n",
    "active = 0\n",
    "status=\"\"\n",
    "color=(0,0,0)"
   ]
  },
  {
   "cell_type": "code",
   "execution_count": 80,
   "id": "c2730855-3d55-4214-a343-cafc0855d94e",
   "metadata": {},
   "outputs": [],
   "source": [
    "def compute(ptA,ptB):\n",
    "\tdist = np.linalg.norm(ptA - ptB)\n",
    "\treturn dist"
   ]
  },
  {
   "cell_type": "code",
   "execution_count": 81,
   "id": "d19c103b-c77f-4f17-88fc-078686e3f67a",
   "metadata": {},
   "outputs": [],
   "source": [
    "def blinked(a,b,c,d,e,f):\n",
    "\tup = compute(b,d) + compute(c,e)\n",
    "\tdown = compute(a,f)\n",
    "\tratio = up/(2.0*down)\n",
    "\n",
    "\t#Checking if it is blinked\n",
    "\tif(ratio>0.25):\n",
    "\t\treturn 2\n",
    "\telif(ratio>0.21 and ratio<=0.25):\n",
    "\t\treturn 1\n",
    "\telse:\n",
    "\t\treturn 0"
   ]
  },
  {
   "cell_type": "code",
   "execution_count": 82,
   "id": "51fc63b3-1e65-4ad3-a1e1-cf83ec225165",
   "metadata": {},
   "outputs": [],
   "source": [
    "def yawned(a, b, c, d, e, f, g, h):\n",
    "    # Calculate the distances between relevant landmarks\n",
    "    upper_lip_dist = compute(a, b) + compute(c, d)\n",
    "    lower_lip_dist = compute(e, f) + compute(g, h)\n",
    "    mouth_width = compute(a, c)\n",
    "    \n",
    "    # Calculate the ratio between upper and lower lip distances\n",
    "    ratio = lower_lip_dist / upper_lip_dist\n",
    "    \n",
    "    # Check if the ratio exceeds a certain threshold indicating a yawn\n",
    "    if ratio > 1.5 and mouth_width > 50:  # You might need to adjust these thresholds based on testing\n",
    "        return True\n",
    "    else:\n",
    "        return False"
   ]
  },
  {
   "cell_type": "code",
   "execution_count": 83,
   "id": "f89028e2-ee38-4059-bc47-7b2bd1de5156",
   "metadata": {},
   "outputs": [],
   "source": [
    "# Initialize pygame\n",
    "pygame.init()\n",
    "\n",
    "# Load your music file\n",
    "music_file_path = \"music.wav\"  # your actual music file path\n",
    "pygame.mixer.music.load(music_file_path)\n",
    "\n",
    "# Function to play music\n",
    "def play_music():\n",
    "    pygame.mixer.music.play(-1)  # -1 loops the music indefinitely\n",
    "\n",
    "# Function to stop music\n",
    "def stop_music():\n",
    "    pygame.mixer.music.stop()\n"
   ]
  },
  {
   "cell_type": "code",
   "execution_count": 84,
   "id": "7c1b963c-1544-48d7-a36f-11bc198f772a",
   "metadata": {},
   "outputs": [],
   "source": [
    "# Inside the while loop\n",
    "while True:\n",
    "    ret, frame = cap.read()  # Capture a frame\n",
    "    if not ret:  # Check if the frame was captured successfully\n",
    "        break  # If not, break out of the loop\n",
    "\n",
    "    gray = cv2.cvtColor(frame, cv2.COLOR_BGR2GRAY)\n",
    "\n",
    "    faces = detector(gray)\n",
    "    # detected face in faces array\n",
    "    for face in faces:\n",
    "        x1 = face.left()\n",
    "        y1 = face.top()\n",
    "        x2 = face.right()\n",
    "        y2 = face.bottom()\n",
    "\n",
    "        face_frame = frame.copy()\n",
    "        cv2.rectangle(face_frame, (x1, y1), (x2, y2), (0, 255, 0), 2)\n",
    "\n",
    "        landmarks = predictor(gray, face)\n",
    "        landmarks = face_utils.shape_to_np(landmarks)\n",
    "\n",
    "        # The numbers are actually the landmarks which will show eye\n",
    "        left_blink = blinked(landmarks[36], landmarks[37],\n",
    "                              landmarks[38], landmarks[41], landmarks[40], landmarks[39])\n",
    "        right_blink = blinked(landmarks[42], landmarks[43],\n",
    "                               landmarks[44], landmarks[47], landmarks[46], landmarks[45])\n",
    "\n",
    "        # Check yawning\n",
    "        yawning_detected = yawned(landmarks[50], landmarks[51], landmarks[52], landmarks[57], \n",
    "                                  landmarks[58], landmarks[59], landmarks[61], landmarks[62])\n",
    "\n",
    "        if yawning_detected > 0.5:\n",
    "            status = \"YAWNING!\"\n",
    "            color = (0, 0, 255)\n",
    "            play_music()  # Start playing music when yawning\n",
    "            \n",
    "        # Now judge what to do for the eye blinks\n",
    "        \n",
    "        elif (left_blink == 0 or right_blink == 0):\n",
    "            sleep += 1\n",
    "            drowsy = 0\n",
    "            active = 0\n",
    "            if (sleep > 6):\n",
    "                status = \"SLEEPING !!!\"\n",
    "                color = (255, 0, 0)\n",
    "                play_music()\n",
    "                \n",
    "        elif (left_blink == 1 or right_blink == 1):\n",
    "            sleep = 0\n",
    "            active = 0\n",
    "            drowsy += 1\n",
    "            if (drowsy > 6):\n",
    "                status = \"DROWSY !\"\n",
    "                color = (0, 0, 255)\n",
    "                play_music()  # Start playing music when drowsy\n",
    "\n",
    "        else:\n",
    "            drowsy = 0\n",
    "            sleep = 0\n",
    "            active += 1\n",
    "            if (active > 6):\n",
    "                status = \"ACTIVE\"\n",
    "                color = (0, 255, 0)\n",
    "                stop_music()  # Stop music when active\n",
    "\n",
    "        cv2.putText(frame, status, (100, 100),\n",
    "                    cv2.FONT_HERSHEY_SIMPLEX, 1.2, color, 3)\n",
    "\n",
    "        for n in range(0, 68):\n",
    "            (x, y) = landmarks[n]\n",
    "            cv2.circle(face_frame, (x, y), 1, (255, 255, 255), -1)\n",
    "\n",
    "    cv2.imshow(\"Frame\", frame)\n",
    "    cv2.imshow(\"Result of detector\", face_frame)\n",
    "\n",
    "    # Check for any key press\n",
    "    key = cv2.waitKey(1)\n",
    "    if key == 27 or key != -1: # If any key is pressed\n",
    "        break ## Break out of the loop\n",
    "\n",
    "cap.release()  # Release the camera\n",
    "cv2.destroyAllWindows()  # Close all OpenCV windows"
   ]
  },
  {
   "cell_type": "code",
   "execution_count": null,
   "id": "550d7048-6348-4dc8-9e72-b0af020eaa5c",
   "metadata": {},
   "outputs": [],
   "source": []
  },
  {
   "cell_type": "code",
   "execution_count": null,
   "id": "0fa541e8-e2ef-444f-9734-17872fcd0f7f",
   "metadata": {},
   "outputs": [],
   "source": []
  }
 ],
 "metadata": {
  "kernelspec": {
   "display_name": "Python 3 (ipykernel)",
   "language": "python",
   "name": "python3"
  },
  "language_info": {
   "codemirror_mode": {
    "name": "ipython",
    "version": 3
   },
   "file_extension": ".py",
   "mimetype": "text/x-python",
   "name": "python",
   "nbconvert_exporter": "python",
   "pygments_lexer": "ipython3",
   "version": "3.11.7"
  }
 },
 "nbformat": 4,
 "nbformat_minor": 5
}
